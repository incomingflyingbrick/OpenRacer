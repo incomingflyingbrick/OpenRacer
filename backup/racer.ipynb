{
 "cells": [
  {
   "cell_type": "code",
   "execution_count": 1,
   "id": "35820d08",
   "metadata": {},
   "outputs": [
    {
     "data": {
      "application/vnd.jupyter.widget-view+json": {
       "model_id": "2bae255686c74e8592cdb5d13afad554",
       "version_major": 2,
       "version_minor": 0
      },
      "text/plain": [
       "Image(value=b'', format='jpeg')"
      ]
     },
     "metadata": {},
     "output_type": "display_data"
    },
    {
     "data": {
      "application/vnd.jupyter.widget-view+json": {
       "model_id": "32f3a43644eb4c419553fd6eae8c1f5b",
       "version_major": 2,
       "version_minor": 0
      },
      "text/plain": [
       "Controller()"
      ]
     },
     "metadata": {},
     "output_type": "display_data"
    }
   ],
   "source": [
    "import ipywidgets.widgets as widgets\n",
    "from time import *\n",
    "from adafruit_servokit import ServoKit\n",
    "import traitlets\n",
    "from jetcam.csi_camera import CSICamera\n",
    "import ipywidgets\n",
    "from IPython.display import display\n",
    "from jetcam.utils import bgr8_to_jpeg\n",
    "import uuid\n",
    "import subprocess\n",
    "from jetcam.csi_camera import CSICamera\n",
    "\n",
    "################################ clean folder ################################\n",
    "subprocess.call(['rm', '-r','-f', 'snapshots'])\n",
    "subprocess.call(['mkdir', '-p', 'snapshots'])\n",
    "################################ clean folder done ################################\n",
    "\n",
    "\n",
    "################################ setup camera ################################\n",
    "image_widget = ipywidgets.Image(format='jpeg')\n",
    "\n",
    "display(image_widget)\n",
    "\n",
    "\n",
    "def saveData(steering,throttle):\n",
    "    file_path = 'snapshots/' + str(uuid.uuid1()) +'_'+str(round(throttle,2))+'_'+str(round(steering,2))+ '_.jpg'\n",
    "        \n",
    "        # write snapshot to file (we use image value instead of camera because it's already in JPEG format)\n",
    "    with open(file_path, 'wb') as f:\n",
    "        f.write(image_widget.value)\n",
    "\n",
    "\n",
    "def cameraCallback(change):\n",
    "    image_widget.value = bgr8_to_jpeg(change['new'])\n",
    "    if controller.axes[1].value!=0.0 or controller.axes[2].value!=0.0:\n",
    "        saveData(controller.axes[2].value,controller.axes[1].value)\n",
    "    \n",
    "\n",
    "camera = CSICamera(width=328, height=246,capture_fps=60)\n",
    "camera.running=True\n",
    "################################ setup camera done ################################\n",
    "\n",
    "\n",
    "################################ setup controller and servo ################################\n",
    "kit = ServoKit(channels=16)\n",
    "kit.servo[0].angle = 72\n",
    "controller = widgets.Controller(index=0)  # replace with index of your controller\n",
    "display(controller)\n",
    "################################ setup controller and servo done ################################\n",
    "\n"
   ]
  },
  {
   "cell_type": "code",
   "execution_count": 2,
   "id": "2194934c",
   "metadata": {},
   "outputs": [],
   "source": [
    "camera.observe(cameraCallback,names='value')\n",
    "\n",
    "def prepareEsc(change):\n",
    "    print(\"电调自检验开始\")\n",
    "    if change['new']:\n",
    "        print('press ')\n",
    "        for i in range(50):\n",
    "            kit.servo[1].angle = 90\n",
    "            sleep(0.1)\n",
    "    print(\"电调自检验完成\")\n",
    "\n",
    "\n",
    "def throttleControl(change):\n",
    "    print('throttle changing')\n",
    "    y=change['new']/(1.0/10.0)\n",
    "    y=y*-1\n",
    "    if y == -0.0:\n",
    "        kit.servo[1].angle = 90\n",
    "    else:\n",
    "        kit.servo[1].angle = int(90+y)\n",
    "        \n",
    "def turnControl(change):\n",
    "    print('stering changing')\n",
    "    y=change['new']/(1.0/25.0)\n",
    "    y=72+y\n",
    "    kit.servo[0].angle = int(y)\n",
    "    \n",
    "def startLog(change):\n",
    "    pass\n",
    "\n",
    "def stopLog(change):\n",
    "    pass\n",
    "    \n",
    "controller.buttons[0].observe(prepareEsc, names='value')\n",
    "controller.axes[1].observe(throttleControl,names='value')\n",
    "controller.axes[2].observe(turnControl,names='value')"
   ]
  }
 ],
 "metadata": {
  "kernelspec": {
   "display_name": "Python 3",
   "language": "python",
   "name": "python3"
  },
  "language_info": {
   "codemirror_mode": {
    "name": "ipython",
    "version": 3
   },
   "file_extension": ".py",
   "mimetype": "text/x-python",
   "name": "python",
   "nbconvert_exporter": "python",
   "pygments_lexer": "ipython3",
   "version": "3.6.9"
  }
 },
 "nbformat": 4,
 "nbformat_minor": 5
}